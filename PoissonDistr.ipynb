{
 "cells": [
  {
   "cell_type": "code",
   "execution_count": 5,
   "id": "a59c3df4-5f8c-423f-ae15-7c68e77f1259",
   "metadata": {},
   "outputs": [],
   "source": [
    "import numpy as npy\n",
    "npy.random.seed(0)  # Initialization of random number generator"
   ]
  },
  {
   "cell_type": "code",
   "execution_count": 6,
   "id": "7949cd95-6d49-477f-92af-35445e9c9ecb",
   "metadata": {},
   "outputs": [],
   "source": [
    "from scipy.stats import poisson # Importing poisson distribution"
   ]
  },
  {
   "cell_type": "code",
   "execution_count": 7,
   "id": "11577635-6a73-4b93-ac22-6bc57435052f",
   "metadata": {},
   "outputs": [],
   "source": [
    "import matplotlib.pyplot as mplt # Importing pyplot to create graphs"
   ]
  },
  {
   "cell_type": "markdown",
   "id": "ff61e50f-326d-4a5f-848e-66bf8f10c3ed",
   "metadata": {},
   "source": [
    "Creating a graph which shows statistic about a certain event occurring from 0 to 20 times in a year. Lambda (mu, variance which are the same) are defined as 10. So, the event occurs around 10 times every year."
   ]
  },
  {
   "cell_type": "code",
   "execution_count": 8,
   "id": "36474c15-9e54-43e3-9686-7bc502612dcb",
   "metadata": {},
   "outputs": [],
   "source": [
    "lmbda = 10\n",
    "\n",
    "n = npy.arange(0,21,1) # Range from 0 to 20 "
   ]
  },
  {
   "cell_type": "code",
   "execution_count": 11,
   "id": "ac524530-3d77-458e-850a-50a963a6e1ae",
   "metadata": {},
   "outputs": [],
   "source": [
    "probability_set = poisson.pmf(k = n, mu = lmbda) # Calculates the result of poisson distribution for each value from 0 to 20, having lambda as 10"
   ]
  },
  {
   "cell_type": "code",
   "execution_count": 12,
   "id": "cb00fc78-42f3-4de0-a76c-4751dc9d81d3",
   "metadata": {},
   "outputs": [
    {
     "data": {
      "text/plain": [
       "<matplotlib.collections.PathCollection at 0x1b5ed9bea50>"
      ]
     },
     "execution_count": 12,
     "metadata": {},
     "output_type": "execute_result"
    },
    {
     "data": {
      "image/png": "[encoded data removed]",
      "text/plain": [
       "<Figure size 640x480 with 1 Axes>"
      ]
     },
     "metadata": {},
     "output_type": "display_data"
    }
   ],
   "source": [
    "mplt.scatter(n, probability_set) # Creates graph with n as x axis and probabilities as y axis"
   ]
  },
  {
   "cell_type": "markdown",
   "id": "36f4cdd6-1fcc-418a-8e28-d94deb25c9a5",
   "metadata": {},
   "source": [
    "Now we will simulate a Poisson variable using numpy."
   ]
  },
  {
   "cell_type": "code",
   "execution_count": 14,
   "id": "a998d999-3ac5-40d9-9558-8f77190aae10",
   "metadata": {},
   "outputs": [
    {
     "data": {
      "text/plain": [
       "array([10, 11,  9,  9, 18, 13,  4, 10, 10,  8])"
      ]
     },
     "execution_count": 14,
     "metadata": {},
     "output_type": "execute_result"
    }
   ],
   "source": [
    "npy.random.poisson(size = 10, lam = lmbda) # Simulates poisson distribution for 10 tentatives in a space-time setting defined as T. Each value shows how many times the event occurred for each simulation."
   ]
  },
  {
   "cell_type": "code",
   "execution_count": null,
   "id": "dd3daa7a-3925-459c-9a02-ddb4f44c2090",
   "metadata": {},
   "outputs": [],
   "source": []
  }
 ],
 "metadata": {
  "kernelspec": {
   "display_name": "Python 3 (ipykernel)",
   "language": "python",
   "name": "python3"
  },
  "language_info": {
   "codemirror_mode": {
    "name": "ipython",
    "version": 3
   },
   "file_extension": ".py",
   "mimetype": "text/x-python",
   "name": "python",
   "nbconvert_exporter": "python",
   "pygments_lexer": "ipython3",
   "version": "3.12.0"
  }
 },
 "nbformat": 4,
 "nbformat_minor": 5
}
